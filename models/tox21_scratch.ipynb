{
 "cells": [
  {
   "cell_type": "code",
   "execution_count": null,
   "metadata": {},
   "outputs": [],
   "source": [
    "import numpy as np\n",
    "import pandas as pd\n",
    "from scipy import io"
   ]
  },
  {
   "cell_type": "code",
   "execution_count": null,
   "metadata": {},
   "outputs": [],
   "source": [
    "# Load data\n",
    "y_tr = pd.read_csv(\"../data/tox21_labels_train.csv.gz\", index_col=0, compression=\"gzip\")\n",
    "x_tr_dense = pd.read_csv(\"../data/tox21_dense_train.csv.gz\", index_col=0, compression=\"gzip\")\n",
    "x_tr_sparse = io.mmread(\"../data/tox21_sparse_train.mtx.gz\").tocsc()\n",
    "\n",
    "y_te = pd.read_csv(\"../data/tox21_labels_test.csv.gz\", index_col=0, compression=\"gzip\")\n",
    "x_te_dense = pd.read_csv(\"../data/tox21_dense_test.csv.gz\", index_col=0, compression=\"gzip\")\n",
    "x_te_sparse = io.mmread(\"../data/tox21_sparse_test.mtx.gz\").tocsc()"
   ]
  },
  {
   "cell_type": "code",
   "execution_count": null,
   "metadata": {},
   "outputs": [],
   "source": [
    "# show the shape of the first row of the dense matrix\n",
    "x_tr_dense.iloc[0].shape\n"
   ]
  },
  {
   "cell_type": "markdown",
   "metadata": {},
   "source": []
  },
  {
   "cell_type": "code",
   "execution_count": null,
   "metadata": {},
   "outputs": [],
   "source": [
    "# show the name of the first row of the dense matrix\n",
    "x_tr_dense.iloc[0].name"
   ]
  },
  {
   "cell_type": "code",
   "execution_count": null,
   "metadata": {},
   "outputs": [],
   "source": [
    "# get the SMILES of the first row of the dense matrix\n",
    "import requests\n",
    "\n",
    "compound_id = \"NCGC00178831-03\"\n",
    "url = f\"https://pubchem.ncbi.nlm.nih.gov/rest/pug/compound/name/{compound_id}/property/IsomericSMILES/TXT\"\n",
    "\n",
    "response = requests.get(url)\n",
    "if response.status_code == 200:\n",
    "    smiles = response.text.strip()\n",
    "    print(f\"SMILES for {compound_id}: {smiles}\")\n",
    "else:\n",
    "    print(f\"Error retrieving SMILES for {compound_id}\")"
   ]
  },
  {
   "cell_type": "code",
   "execution_count": null,
   "metadata": {},
   "outputs": [],
   "source": [
    "# draw the molecule\n",
    "molecule = Chem.MolFromSmiles(smiles)\n",
    "Draw.MolToImage(molecule)"
   ]
  },
  {
   "cell_type": "code",
   "execution_count": null,
   "metadata": {},
   "outputs": [],
   "source": [
    "import requests\n",
    "from rdkit import Chem\n",
    "from rdkit.Chem import Draw\n",
    "import time\n",
    "\n",
    "def get_smiles(compound_id):\n",
    "    url = f\"https://pubchem.ncbi.nlm.nih.gov/rest/pug/compound/name/{compound_id}/property/IsomericSMILES/TXT\"\n",
    "    response = requests.get(url)\n",
    "    if response.status_code == 200:\n",
    "        return response.text.strip()\n",
    "    else:\n",
    "        return None\n",
    "\n",
    "# Create a new column 'SMILES' in x_tr_dense\n",
    "x_tr_dense['SMILES'] = ''\n",
    "\n",
    "# Fetch SMILES for each compound\n",
    "for idx, compound_id in enumerate(x_tr_dense.index):\n",
    "    smiles = get_smiles(compound_id)\n",
    "    x_tr_dense.at[compound_id, 'SMILES'] = smiles\n",
    "    print(f\"Retrieved SMILES for {compound_id}: {smiles}\")\n",
    "    time.sleep(0.1)\n",
    "\n",
    "# Display the first few rows of the updated dataframe\n",
    "x_tr_dense.head()"
   ]
  },
  {
   "cell_type": "markdown",
   "metadata": {},
   "source": [
    "The y frames: \n",
    "for each of the 12 output features, theres' 11 NaNs and one binary label"
   ]
  },
  {
   "cell_type": "code",
   "execution_count": null,
   "metadata": {},
   "outputs": [],
   "source": [
    "# show first row of y train\n",
    "y_tr.head(50)"
   ]
  },
  {
   "cell_type": "code",
   "execution_count": null,
   "metadata": {},
   "outputs": [],
   "source": []
  }
 ],
 "metadata": {
  "kernelspec": {
   "display_name": "myenv",
   "language": "python",
   "name": "python3"
  },
  "language_info": {
   "codemirror_mode": {
    "name": "ipython",
    "version": 3
   },
   "file_extension": ".py",
   "mimetype": "text/x-python",
   "name": "python",
   "nbconvert_exporter": "python",
   "pygments_lexer": "ipython3",
   "version": "3.12.3"
  }
 },
 "nbformat": 4,
 "nbformat_minor": 2
}
