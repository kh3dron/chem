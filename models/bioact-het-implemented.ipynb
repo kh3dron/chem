{
 "cells": [
  {
   "cell_type": "markdown",
   "metadata": {},
   "source": [
    "# Setting up the Data"
   ]
  },
  {
   "cell_type": "code",
   "execution_count": 7,
   "metadata": {},
   "outputs": [
    {
     "name": "stdout",
     "output_type": "stream",
     "text": [
      "Requirement already satisfied: rdkit in /home/tristan/Documents/Github/self/chem/myenv/lib/python3.12/site-packages (2024.3.5)\n",
      "Requirement already satisfied: numpy in /home/tristan/Documents/Github/self/chem/myenv/lib/python3.12/site-packages (from rdkit) (2.1.0)\n",
      "Requirement already satisfied: Pillow in /home/tristan/Documents/Github/self/chem/myenv/lib/python3.12/site-packages (from rdkit) (10.4.0)\n",
      "Requirement already satisfied: dgllife in /home/tristan/Documents/Github/self/chem/myenv/lib/python3.12/site-packages (0.3.2)\n",
      "Requirement already satisfied: scikit-learn>=0.22.2 in /home/tristan/Documents/Github/self/chem/myenv/lib/python3.12/site-packages (from dgllife) (1.5.1)\n",
      "Requirement already satisfied: pandas in /home/tristan/Documents/Github/self/chem/myenv/lib/python3.12/site-packages (from dgllife) (2.2.2)\n",
      "Requirement already satisfied: requests>=2.22.0 in /home/tristan/Documents/Github/self/chem/myenv/lib/python3.12/site-packages (from dgllife) (2.32.3)\n",
      "Requirement already satisfied: tqdm in /home/tristan/Documents/Github/self/chem/myenv/lib/python3.12/site-packages (from dgllife) (4.66.5)\n",
      "Requirement already satisfied: numpy>=1.14.0 in /home/tristan/Documents/Github/self/chem/myenv/lib/python3.12/site-packages (from dgllife) (2.1.0)\n",
      "Requirement already satisfied: scipy>=1.1.0 in /home/tristan/Documents/Github/self/chem/myenv/lib/python3.12/site-packages (from dgllife) (1.14.1)\n",
      "Requirement already satisfied: networkx>=2.1 in /home/tristan/Documents/Github/self/chem/myenv/lib/python3.12/site-packages (from dgllife) (3.3)\n",
      "Requirement already satisfied: hyperopt in /home/tristan/Documents/Github/self/chem/myenv/lib/python3.12/site-packages (from dgllife) (0.2.7)\n",
      "Requirement already satisfied: joblib in /home/tristan/Documents/Github/self/chem/myenv/lib/python3.12/site-packages (from dgllife) (1.4.2)\n",
      "Requirement already satisfied: charset-normalizer<4,>=2 in /home/tristan/Documents/Github/self/chem/myenv/lib/python3.12/site-packages (from requests>=2.22.0->dgllife) (3.3.2)\n",
      "Requirement already satisfied: idna<4,>=2.5 in /home/tristan/Documents/Github/self/chem/myenv/lib/python3.12/site-packages (from requests>=2.22.0->dgllife) (3.8)\n",
      "Requirement already satisfied: urllib3<3,>=1.21.1 in /home/tristan/Documents/Github/self/chem/myenv/lib/python3.12/site-packages (from requests>=2.22.0->dgllife) (2.2.2)\n",
      "Requirement already satisfied: certifi>=2017.4.17 in /home/tristan/Documents/Github/self/chem/myenv/lib/python3.12/site-packages (from requests>=2.22.0->dgllife) (2024.8.30)\n",
      "Requirement already satisfied: threadpoolctl>=3.1.0 in /home/tristan/Documents/Github/self/chem/myenv/lib/python3.12/site-packages (from scikit-learn>=0.22.2->dgllife) (3.5.0)\n",
      "Requirement already satisfied: six in /home/tristan/Documents/Github/self/chem/myenv/lib/python3.12/site-packages (from hyperopt->dgllife) (1.16.0)\n",
      "Requirement already satisfied: future in /home/tristan/Documents/Github/self/chem/myenv/lib/python3.12/site-packages (from hyperopt->dgllife) (1.0.0)\n",
      "Requirement already satisfied: cloudpickle in /home/tristan/Documents/Github/self/chem/myenv/lib/python3.12/site-packages (from hyperopt->dgllife) (3.0.0)\n",
      "Requirement already satisfied: py4j in /home/tristan/Documents/Github/self/chem/myenv/lib/python3.12/site-packages (from hyperopt->dgllife) (0.10.9.7)\n",
      "Requirement already satisfied: python-dateutil>=2.8.2 in /home/tristan/Documents/Github/self/chem/myenv/lib/python3.12/site-packages (from pandas->dgllife) (2.9.0.post0)\n",
      "Requirement already satisfied: pytz>=2020.1 in /home/tristan/Documents/Github/self/chem/myenv/lib/python3.12/site-packages (from pandas->dgllife) (2024.1)\n",
      "Requirement already satisfied: tzdata>=2022.7 in /home/tristan/Documents/Github/self/chem/myenv/lib/python3.12/site-packages (from pandas->dgllife) (2024.1)\n",
      "Looking in links: https://data.dgl.ai/wheels/torch-2.4/cu124/repo.html\n",
      "Requirement already satisfied: dgl in /home/tristan/Documents/Github/self/chem/myenv/lib/python3.12/site-packages (2.1.0)\n",
      "Requirement already satisfied: numpy>=1.14.0 in /home/tristan/Documents/Github/self/chem/myenv/lib/python3.12/site-packages (from dgl) (2.1.0)\n",
      "Requirement already satisfied: scipy>=1.1.0 in /home/tristan/Documents/Github/self/chem/myenv/lib/python3.12/site-packages (from dgl) (1.14.1)\n",
      "Requirement already satisfied: networkx>=2.1 in /home/tristan/Documents/Github/self/chem/myenv/lib/python3.12/site-packages (from dgl) (3.3)\n",
      "Requirement already satisfied: requests>=2.19.0 in /home/tristan/Documents/Github/self/chem/myenv/lib/python3.12/site-packages (from dgl) (2.32.3)\n",
      "Requirement already satisfied: tqdm in /home/tristan/Documents/Github/self/chem/myenv/lib/python3.12/site-packages (from dgl) (4.66.5)\n",
      "Requirement already satisfied: psutil>=5.8.0 in /home/tristan/Documents/Github/self/chem/myenv/lib/python3.12/site-packages (from dgl) (6.0.0)\n",
      "Requirement already satisfied: torchdata>=0.5.0 in /home/tristan/Documents/Github/self/chem/myenv/lib/python3.12/site-packages (from dgl) (0.8.0)\n",
      "Requirement already satisfied: charset-normalizer<4,>=2 in /home/tristan/Documents/Github/self/chem/myenv/lib/python3.12/site-packages (from requests>=2.19.0->dgl) (3.3.2)\n",
      "Requirement already satisfied: idna<4,>=2.5 in /home/tristan/Documents/Github/self/chem/myenv/lib/python3.12/site-packages (from requests>=2.19.0->dgl) (3.8)\n",
      "Requirement already satisfied: urllib3<3,>=1.21.1 in /home/tristan/Documents/Github/self/chem/myenv/lib/python3.12/site-packages (from requests>=2.19.0->dgl) (2.2.2)\n",
      "Requirement already satisfied: certifi>=2017.4.17 in /home/tristan/Documents/Github/self/chem/myenv/lib/python3.12/site-packages (from requests>=2.19.0->dgl) (2024.8.30)\n",
      "Requirement already satisfied: torch>=2 in /home/tristan/Documents/Github/self/chem/myenv/lib/python3.12/site-packages (from torchdata>=0.5.0->dgl) (2.4.1)\n",
      "Requirement already satisfied: filelock in /home/tristan/Documents/Github/self/chem/myenv/lib/python3.12/site-packages (from torch>=2->torchdata>=0.5.0->dgl) (3.15.4)\n",
      "Requirement already satisfied: typing-extensions>=4.8.0 in /home/tristan/Documents/Github/self/chem/myenv/lib/python3.12/site-packages (from torch>=2->torchdata>=0.5.0->dgl) (4.12.2)\n",
      "Requirement already satisfied: sympy in /home/tristan/Documents/Github/self/chem/myenv/lib/python3.12/site-packages (from torch>=2->torchdata>=0.5.0->dgl) (1.13.2)\n",
      "Requirement already satisfied: jinja2 in /home/tristan/Documents/Github/self/chem/myenv/lib/python3.12/site-packages (from torch>=2->torchdata>=0.5.0->dgl) (3.1.4)\n",
      "Requirement already satisfied: fsspec in /home/tristan/Documents/Github/self/chem/myenv/lib/python3.12/site-packages (from torch>=2->torchdata>=0.5.0->dgl) (2024.9.0)\n",
      "Requirement already satisfied: setuptools in /home/tristan/Documents/Github/self/chem/myenv/lib/python3.12/site-packages (from torch>=2->torchdata>=0.5.0->dgl) (74.1.1)\n",
      "Requirement already satisfied: nvidia-cuda-nvrtc-cu12==12.1.105 in /home/tristan/Documents/Github/self/chem/myenv/lib/python3.12/site-packages (from torch>=2->torchdata>=0.5.0->dgl) (12.1.105)\n",
      "Requirement already satisfied: nvidia-cuda-runtime-cu12==12.1.105 in /home/tristan/Documents/Github/self/chem/myenv/lib/python3.12/site-packages (from torch>=2->torchdata>=0.5.0->dgl) (12.1.105)\n",
      "Requirement already satisfied: nvidia-cuda-cupti-cu12==12.1.105 in /home/tristan/Documents/Github/self/chem/myenv/lib/python3.12/site-packages (from torch>=2->torchdata>=0.5.0->dgl) (12.1.105)\n",
      "Requirement already satisfied: nvidia-cudnn-cu12==9.1.0.70 in /home/tristan/Documents/Github/self/chem/myenv/lib/python3.12/site-packages (from torch>=2->torchdata>=0.5.0->dgl) (9.1.0.70)\n",
      "Requirement already satisfied: nvidia-cublas-cu12==12.1.3.1 in /home/tristan/Documents/Github/self/chem/myenv/lib/python3.12/site-packages (from torch>=2->torchdata>=0.5.0->dgl) (12.1.3.1)\n",
      "Requirement already satisfied: nvidia-cufft-cu12==11.0.2.54 in /home/tristan/Documents/Github/self/chem/myenv/lib/python3.12/site-packages (from torch>=2->torchdata>=0.5.0->dgl) (11.0.2.54)\n",
      "Requirement already satisfied: nvidia-curand-cu12==10.3.2.106 in /home/tristan/Documents/Github/self/chem/myenv/lib/python3.12/site-packages (from torch>=2->torchdata>=0.5.0->dgl) (10.3.2.106)\n",
      "Requirement already satisfied: nvidia-cusolver-cu12==11.4.5.107 in /home/tristan/Documents/Github/self/chem/myenv/lib/python3.12/site-packages (from torch>=2->torchdata>=0.5.0->dgl) (11.4.5.107)\n",
      "Requirement already satisfied: nvidia-cusparse-cu12==12.1.0.106 in /home/tristan/Documents/Github/self/chem/myenv/lib/python3.12/site-packages (from torch>=2->torchdata>=0.5.0->dgl) (12.1.0.106)\n",
      "Requirement already satisfied: nvidia-nccl-cu12==2.20.5 in /home/tristan/Documents/Github/self/chem/myenv/lib/python3.12/site-packages (from torch>=2->torchdata>=0.5.0->dgl) (2.20.5)\n",
      "Requirement already satisfied: nvidia-nvtx-cu12==12.1.105 in /home/tristan/Documents/Github/self/chem/myenv/lib/python3.12/site-packages (from torch>=2->torchdata>=0.5.0->dgl) (12.1.105)\n",
      "Requirement already satisfied: triton==3.0.0 in /home/tristan/Documents/Github/self/chem/myenv/lib/python3.12/site-packages (from torch>=2->torchdata>=0.5.0->dgl) (3.0.0)\n",
      "Requirement already satisfied: nvidia-nvjitlink-cu12 in /home/tristan/Documents/Github/self/chem/myenv/lib/python3.12/site-packages (from nvidia-cusolver-cu12==11.4.5.107->torch>=2->torchdata>=0.5.0->dgl) (12.6.68)\n",
      "Requirement already satisfied: MarkupSafe>=2.0 in /home/tristan/Documents/Github/self/chem/myenv/lib/python3.12/site-packages (from jinja2->torch>=2->torchdata>=0.5.0->dgl) (2.1.5)\n",
      "Requirement already satisfied: mpmath<1.4,>=1.1.0 in /home/tristan/Documents/Github/self/chem/myenv/lib/python3.12/site-packages (from sympy->torch>=2->torchdata>=0.5.0->dgl) (1.3.0)\n"
     ]
    }
   ],
   "source": [
    "!pip install rdkit\n",
    "!pip install dgllife\n",
    "!pip install  dgl -f https://data.dgl.ai/wheels/torch-2.4/cu124/repo.html"
   ]
  },
  {
   "cell_type": "code",
   "execution_count": 11,
   "metadata": {},
   "outputs": [
    {
     "name": "stdout",
     "output_type": "stream",
     "text": [
      "2.4.1+cu121\n"
     ]
    },
    {
     "ename": "FileNotFoundError",
     "evalue": "Cannot find DGL C++ graphbolt library at /home/tristan/Documents/Github/self/chem/myenv/lib/python3.12/site-packages/dgl/graphbolt/libgraphbolt_pytorch_2.4.1.so",
     "output_type": "error",
     "traceback": [
      "\u001b[0;31m---------------------------------------------------------------------------\u001b[0m",
      "\u001b[0;31mFileNotFoundError\u001b[0m                         Traceback (most recent call last)",
      "Cell \u001b[0;32mIn[11], line 5\u001b[0m\n\u001b[1;32m      2\u001b[0m \u001b[38;5;28;01mimport\u001b[39;00m \u001b[38;5;21;01mtorch\u001b[39;00m\n\u001b[1;32m      3\u001b[0m \u001b[38;5;28mprint\u001b[39m(torch\u001b[38;5;241m.\u001b[39m__version__)\n\u001b[0;32m----> 5\u001b[0m \u001b[38;5;28;01mimport\u001b[39;00m \u001b[38;5;21;01mdgllife\u001b[39;00m\n",
      "File \u001b[0;32m~/Documents/Github/self/chem/myenv/lib/python3.12/site-packages/dgllife/__init__.py:9\u001b[0m\n\u001b[1;32m      1\u001b[0m \u001b[38;5;66;03m# -*- coding: utf-8 -*-\u001b[39;00m\n\u001b[1;32m      2\u001b[0m \u001b[38;5;66;03m#\u001b[39;00m\n\u001b[1;32m      3\u001b[0m \u001b[38;5;66;03m# Copyright Amazon.com, Inc. or its affiliates. All Rights Reserved.\u001b[39;00m\n\u001b[1;32m      4\u001b[0m \u001b[38;5;66;03m# SPDX-License-Identifier: Apache-2.0\u001b[39;00m\n\u001b[1;32m      5\u001b[0m \u001b[38;5;66;03m#\u001b[39;00m\n\u001b[1;32m      6\u001b[0m \u001b[38;5;66;03m# DGL-based package for applications in life science.\u001b[39;00m\n\u001b[1;32m      8\u001b[0m \u001b[38;5;28;01mfrom\u001b[39;00m \u001b[38;5;21;01m.\u001b[39;00m\u001b[38;5;21;01mlibinfo\u001b[39;00m \u001b[38;5;28;01mimport\u001b[39;00m __version__\n\u001b[0;32m----> 9\u001b[0m \u001b[38;5;28;01mfrom\u001b[39;00m \u001b[38;5;21;01m.\u001b[39;00m \u001b[38;5;28;01mimport\u001b[39;00m model\n\u001b[1;32m     11\u001b[0m \u001b[38;5;28;01mtry\u001b[39;00m:\n\u001b[1;32m     12\u001b[0m     \u001b[38;5;28;01mimport\u001b[39;00m \u001b[38;5;21;01mrdkit\u001b[39;00m\n",
      "File \u001b[0;32m~/Documents/Github/self/chem/myenv/lib/python3.12/site-packages/dgllife/model/__init__.py:6\u001b[0m\n\u001b[1;32m      1\u001b[0m \u001b[38;5;66;03m# -*- coding: utf-8 -*-\u001b[39;00m\n\u001b[1;32m      2\u001b[0m \u001b[38;5;66;03m#\u001b[39;00m\n\u001b[1;32m      3\u001b[0m \u001b[38;5;66;03m# Copyright Amazon.com, Inc. or its affiliates. All Rights Reserved.\u001b[39;00m\n\u001b[1;32m      4\u001b[0m \u001b[38;5;66;03m# SPDX-License-Identifier: Apache-2.0\u001b[39;00m\n\u001b[0;32m----> 6\u001b[0m \u001b[38;5;28;01mfrom\u001b[39;00m \u001b[38;5;21;01m.\u001b[39;00m\u001b[38;5;21;01mgnn\u001b[39;00m \u001b[38;5;28;01mimport\u001b[39;00m \u001b[38;5;241m*\u001b[39m\n\u001b[1;32m      7\u001b[0m \u001b[38;5;28;01mfrom\u001b[39;00m \u001b[38;5;21;01m.\u001b[39;00m\u001b[38;5;21;01mreadout\u001b[39;00m \u001b[38;5;28;01mimport\u001b[39;00m \u001b[38;5;241m*\u001b[39m\n\u001b[1;32m      8\u001b[0m \u001b[38;5;28;01mfrom\u001b[39;00m \u001b[38;5;21;01m.\u001b[39;00m\u001b[38;5;21;01mmodel_zoo\u001b[39;00m \u001b[38;5;28;01mimport\u001b[39;00m \u001b[38;5;241m*\u001b[39m\n",
      "File \u001b[0;32m~/Documents/Github/self/chem/myenv/lib/python3.12/site-packages/dgllife/model/gnn/__init__.py:8\u001b[0m\n\u001b[1;32m      1\u001b[0m \u001b[38;5;66;03m# -*- coding: utf-8 -*-\u001b[39;00m\n\u001b[1;32m      2\u001b[0m \u001b[38;5;66;03m#\u001b[39;00m\n\u001b[1;32m      3\u001b[0m \u001b[38;5;66;03m# Copyright Amazon.com, Inc. or its affiliates. All Rights Reserved.\u001b[39;00m\n\u001b[1;32m      4\u001b[0m \u001b[38;5;66;03m# SPDX-License-Identifier: Apache-2.0\u001b[39;00m\n\u001b[1;32m      5\u001b[0m \u001b[38;5;66;03m#\u001b[39;00m\n\u001b[1;32m      6\u001b[0m \u001b[38;5;66;03m# Graph neural networks for updating node representations\u001b[39;00m\n\u001b[0;32m----> 8\u001b[0m \u001b[38;5;28;01mfrom\u001b[39;00m \u001b[38;5;21;01m.\u001b[39;00m\u001b[38;5;21;01mattentivefp\u001b[39;00m \u001b[38;5;28;01mimport\u001b[39;00m \u001b[38;5;241m*\u001b[39m\n\u001b[1;32m      9\u001b[0m \u001b[38;5;28;01mfrom\u001b[39;00m \u001b[38;5;21;01m.\u001b[39;00m\u001b[38;5;21;01mgat\u001b[39;00m \u001b[38;5;28;01mimport\u001b[39;00m \u001b[38;5;241m*\u001b[39m\n\u001b[1;32m     10\u001b[0m \u001b[38;5;28;01mfrom\u001b[39;00m \u001b[38;5;21;01m.\u001b[39;00m\u001b[38;5;21;01mgatv2\u001b[39;00m \u001b[38;5;28;01mimport\u001b[39;00m \u001b[38;5;241m*\u001b[39m\n",
      "File \u001b[0;32m~/Documents/Github/self/chem/myenv/lib/python3.12/site-packages/dgllife/model/gnn/attentivefp.py:9\u001b[0m\n\u001b[1;32m      1\u001b[0m \u001b[38;5;66;03m# -*- coding: utf-8 -*-\u001b[39;00m\n\u001b[1;32m      2\u001b[0m \u001b[38;5;66;03m#\u001b[39;00m\n\u001b[1;32m      3\u001b[0m \u001b[38;5;66;03m# Copyright Amazon.com, Inc. or its affiliates. All Rights Reserved.\u001b[39;00m\n\u001b[0;32m   (...)\u001b[0m\n\u001b[1;32m      6\u001b[0m \u001b[38;5;66;03m# AttentiveFP\u001b[39;00m\n\u001b[1;32m      7\u001b[0m \u001b[38;5;66;03m# pylint: disable= no-member, arguments-differ, invalid-name\u001b[39;00m\n\u001b[0;32m----> 9\u001b[0m \u001b[38;5;28;01mimport\u001b[39;00m \u001b[38;5;21;01mdgl\u001b[39;00m\u001b[38;5;21;01m.\u001b[39;00m\u001b[38;5;21;01mfunction\u001b[39;00m \u001b[38;5;28;01mas\u001b[39;00m \u001b[38;5;21;01mfn\u001b[39;00m\n\u001b[1;32m     10\u001b[0m \u001b[38;5;28;01mimport\u001b[39;00m \u001b[38;5;21;01mtorch\u001b[39;00m\n\u001b[1;32m     11\u001b[0m \u001b[38;5;28;01mimport\u001b[39;00m \u001b[38;5;21;01mtorch\u001b[39;00m\u001b[38;5;21;01m.\u001b[39;00m\u001b[38;5;21;01mnn\u001b[39;00m \u001b[38;5;28;01mas\u001b[39;00m \u001b[38;5;21;01mnn\u001b[39;00m\n",
      "File \u001b[0;32m~/Documents/Github/self/chem/myenv/lib/python3.12/site-packages/dgl/__init__.py:16\u001b[0m\n\u001b[1;32m     13\u001b[0m \u001b[38;5;28;01mfrom\u001b[39;00m \u001b[38;5;21;01m.\u001b[39;00m\u001b[38;5;21;01mlogging\u001b[39;00m \u001b[38;5;28;01mimport\u001b[39;00m enable_verbose_logging  \u001b[38;5;66;03m# usort: skip\u001b[39;00m\n\u001b[1;32m     14\u001b[0m \u001b[38;5;28;01mfrom\u001b[39;00m \u001b[38;5;21;01m.\u001b[39;00m\u001b[38;5;21;01mbackend\u001b[39;00m \u001b[38;5;28;01mimport\u001b[39;00m backend_name, load_backend  \u001b[38;5;66;03m# usort: skip\u001b[39;00m\n\u001b[0;32m---> 16\u001b[0m \u001b[38;5;28;01mfrom\u001b[39;00m \u001b[38;5;21;01m.\u001b[39;00m \u001b[38;5;28;01mimport\u001b[39;00m (\n\u001b[1;32m     17\u001b[0m     container,\n\u001b[1;32m     18\u001b[0m     cuda,\n\u001b[1;32m     19\u001b[0m     dataloading,\n\u001b[1;32m     20\u001b[0m     function,\n\u001b[1;32m     21\u001b[0m     ops,\n\u001b[1;32m     22\u001b[0m     random,\n\u001b[1;32m     23\u001b[0m     sampling,\n\u001b[1;32m     24\u001b[0m     storages,\n\u001b[1;32m     25\u001b[0m )\n\u001b[1;32m     26\u001b[0m \u001b[38;5;28;01mfrom\u001b[39;00m \u001b[38;5;21;01m.\u001b[39;00m\u001b[38;5;21;01m_ffi\u001b[39;00m\u001b[38;5;21;01m.\u001b[39;00m\u001b[38;5;21;01mbase\u001b[39;00m \u001b[38;5;28;01mimport\u001b[39;00m __version__, DGLError\n\u001b[1;32m     27\u001b[0m \u001b[38;5;28;01mfrom\u001b[39;00m \u001b[38;5;21;01m.\u001b[39;00m\u001b[38;5;21;01m_ffi\u001b[39;00m\u001b[38;5;21;01m.\u001b[39;00m\u001b[38;5;21;01mfunction\u001b[39;00m \u001b[38;5;28;01mimport\u001b[39;00m (\n\u001b[1;32m     28\u001b[0m     extract_ext_funcs,\n\u001b[1;32m     29\u001b[0m     get_global_func,\n\u001b[1;32m     30\u001b[0m     list_global_func_names,\n\u001b[1;32m     31\u001b[0m     register_func,\n\u001b[1;32m     32\u001b[0m )\n",
      "File \u001b[0;32m~/Documents/Github/self/chem/myenv/lib/python3.12/site-packages/dgl/dataloading/__init__.py:13\u001b[0m\n\u001b[1;32m     11\u001b[0m \u001b[38;5;28;01mif\u001b[39;00m F\u001b[38;5;241m.\u001b[39mget_preferred_backend() \u001b[38;5;241m==\u001b[39m \u001b[38;5;124m\"\u001b[39m\u001b[38;5;124mpytorch\u001b[39m\u001b[38;5;124m\"\u001b[39m:\n\u001b[1;32m     12\u001b[0m     \u001b[38;5;28;01mfrom\u001b[39;00m \u001b[38;5;21;01m.\u001b[39;00m\u001b[38;5;21;01mspot_target\u001b[39;00m \u001b[38;5;28;01mimport\u001b[39;00m \u001b[38;5;241m*\u001b[39m\n\u001b[0;32m---> 13\u001b[0m     \u001b[38;5;28;01mfrom\u001b[39;00m \u001b[38;5;21;01m.\u001b[39;00m\u001b[38;5;21;01mdataloader\u001b[39;00m \u001b[38;5;28;01mimport\u001b[39;00m \u001b[38;5;241m*\u001b[39m\n\u001b[1;32m     14\u001b[0m     \u001b[38;5;28;01mfrom\u001b[39;00m \u001b[38;5;21;01m.\u001b[39;00m\u001b[38;5;21;01mdist_dataloader\u001b[39;00m \u001b[38;5;28;01mimport\u001b[39;00m \u001b[38;5;241m*\u001b[39m\n",
      "File \u001b[0;32m~/Documents/Github/self/chem/myenv/lib/python3.12/site-packages/dgl/dataloading/dataloader.py:27\u001b[0m\n\u001b[1;32m     25\u001b[0m \u001b[38;5;28;01mfrom\u001b[39;00m \u001b[38;5;21;01m.\u001b[39;00m\u001b[38;5;21;01m.\u001b[39;00m\u001b[38;5;21;01mbatch\u001b[39;00m \u001b[38;5;28;01mimport\u001b[39;00m batch \u001b[38;5;28;01mas\u001b[39;00m batch_graphs\n\u001b[1;32m     26\u001b[0m \u001b[38;5;28;01mfrom\u001b[39;00m \u001b[38;5;21;01m.\u001b[39;00m\u001b[38;5;21;01m.\u001b[39;00m\u001b[38;5;21;01mcuda\u001b[39;00m \u001b[38;5;28;01mimport\u001b[39;00m GPUCache\n\u001b[0;32m---> 27\u001b[0m \u001b[38;5;28;01mfrom\u001b[39;00m \u001b[38;5;21;01m.\u001b[39;00m\u001b[38;5;21;01m.\u001b[39;00m\u001b[38;5;21;01mdistributed\u001b[39;00m \u001b[38;5;28;01mimport\u001b[39;00m DistGraph\n\u001b[1;32m     28\u001b[0m \u001b[38;5;28;01mfrom\u001b[39;00m \u001b[38;5;21;01m.\u001b[39;00m\u001b[38;5;21;01m.\u001b[39;00m\u001b[38;5;21;01mframe\u001b[39;00m \u001b[38;5;28;01mimport\u001b[39;00m LazyFeature\n\u001b[1;32m     29\u001b[0m \u001b[38;5;28;01mfrom\u001b[39;00m \u001b[38;5;21;01m.\u001b[39;00m\u001b[38;5;21;01m.\u001b[39;00m\u001b[38;5;21;01mheterograph\u001b[39;00m \u001b[38;5;28;01mimport\u001b[39;00m DGLGraph\n",
      "File \u001b[0;32m~/Documents/Github/self/chem/myenv/lib/python3.12/site-packages/dgl/distributed/__init__.py:5\u001b[0m\n\u001b[1;32m      3\u001b[0m \u001b[38;5;28;01mfrom\u001b[39;00m \u001b[38;5;21;01m.\u001b[39;00m\u001b[38;5;21;01mdist_context\u001b[39;00m \u001b[38;5;28;01mimport\u001b[39;00m exit_client, initialize\n\u001b[1;32m      4\u001b[0m \u001b[38;5;28;01mfrom\u001b[39;00m \u001b[38;5;21;01m.\u001b[39;00m\u001b[38;5;21;01mdist_dataloader\u001b[39;00m \u001b[38;5;28;01mimport\u001b[39;00m DistDataLoader\n\u001b[0;32m----> 5\u001b[0m \u001b[38;5;28;01mfrom\u001b[39;00m \u001b[38;5;21;01m.\u001b[39;00m\u001b[38;5;21;01mdist_graph\u001b[39;00m \u001b[38;5;28;01mimport\u001b[39;00m DistGraph, DistGraphServer, edge_split, node_split\n\u001b[1;32m      6\u001b[0m \u001b[38;5;28;01mfrom\u001b[39;00m \u001b[38;5;21;01m.\u001b[39;00m\u001b[38;5;21;01mdist_tensor\u001b[39;00m \u001b[38;5;28;01mimport\u001b[39;00m DistTensor\n\u001b[1;32m      7\u001b[0m \u001b[38;5;28;01mfrom\u001b[39;00m \u001b[38;5;21;01m.\u001b[39;00m\u001b[38;5;21;01mgraph_partition_book\u001b[39;00m \u001b[38;5;28;01mimport\u001b[39;00m GraphPartitionBook, PartitionPolicy\n",
      "File \u001b[0;32m~/Documents/Github/self/chem/myenv/lib/python3.12/site-packages/dgl/distributed/dist_graph.py:11\u001b[0m\n\u001b[1;32m      7\u001b[0m \u001b[38;5;28;01mfrom\u001b[39;00m \u001b[38;5;21;01mcollections\u001b[39;00m\u001b[38;5;21;01m.\u001b[39;00m\u001b[38;5;21;01mabc\u001b[39;00m \u001b[38;5;28;01mimport\u001b[39;00m MutableMapping\n\u001b[1;32m      9\u001b[0m \u001b[38;5;28;01mimport\u001b[39;00m \u001b[38;5;21;01mnumpy\u001b[39;00m \u001b[38;5;28;01mas\u001b[39;00m \u001b[38;5;21;01mnp\u001b[39;00m\n\u001b[0;32m---> 11\u001b[0m \u001b[38;5;28;01mfrom\u001b[39;00m \u001b[38;5;21;01m.\u001b[39;00m\u001b[38;5;21;01m.\u001b[39;00m \u001b[38;5;28;01mimport\u001b[39;00m backend \u001b[38;5;28;01mas\u001b[39;00m F, graphbolt \u001b[38;5;28;01mas\u001b[39;00m gb, heterograph_index\n\u001b[1;32m     12\u001b[0m \u001b[38;5;28;01mfrom\u001b[39;00m \u001b[38;5;21;01m.\u001b[39;00m\u001b[38;5;21;01m.\u001b[39;00m\u001b[38;5;21;01m_ffi\u001b[39;00m\u001b[38;5;21;01m.\u001b[39;00m\u001b[38;5;21;01mndarray\u001b[39;00m \u001b[38;5;28;01mimport\u001b[39;00m empty_shared_mem\n\u001b[1;32m     13\u001b[0m \u001b[38;5;28;01mfrom\u001b[39;00m \u001b[38;5;21;01m.\u001b[39;00m\u001b[38;5;21;01m.\u001b[39;00m\u001b[38;5;21;01mbase\u001b[39;00m \u001b[38;5;28;01mimport\u001b[39;00m ALL, DGLError, EID, ETYPE, is_all, NID\n",
      "File \u001b[0;32m~/Documents/Github/self/chem/myenv/lib/python3.12/site-packages/dgl/graphbolt/__init__.py:55\u001b[0m\n\u001b[1;32m     51\u001b[0m     \u001b[38;5;28;01mexcept\u001b[39;00m \u001b[38;5;167;01mException\u001b[39;00m:  \u001b[38;5;66;03m# pylint: disable=W0703\u001b[39;00m\n\u001b[1;32m     52\u001b[0m         \u001b[38;5;28;01mraise\u001b[39;00m \u001b[38;5;167;01mImportError\u001b[39;00m(\u001b[38;5;124m\"\u001b[39m\u001b[38;5;124mCannot load Graphbolt C++ library\u001b[39m\u001b[38;5;124m\"\u001b[39m)\n\u001b[0;32m---> 55\u001b[0m \u001b[43mload_graphbolt\u001b[49m\u001b[43m(\u001b[49m\u001b[43m)\u001b[49m\n",
      "File \u001b[0;32m~/Documents/Github/self/chem/myenv/lib/python3.12/site-packages/dgl/graphbolt/__init__.py:45\u001b[0m, in \u001b[0;36mload_graphbolt\u001b[0;34m()\u001b[0m\n\u001b[1;32m     43\u001b[0m path \u001b[38;5;241m=\u001b[39m os\u001b[38;5;241m.\u001b[39mpath\u001b[38;5;241m.\u001b[39mjoin(dirname, \u001b[38;5;124m\"\u001b[39m\u001b[38;5;124mgraphbolt\u001b[39m\u001b[38;5;124m\"\u001b[39m, basename)\n\u001b[1;32m     44\u001b[0m \u001b[38;5;28;01mif\u001b[39;00m \u001b[38;5;129;01mnot\u001b[39;00m os\u001b[38;5;241m.\u001b[39mpath\u001b[38;5;241m.\u001b[39mexists(path):\n\u001b[0;32m---> 45\u001b[0m     \u001b[38;5;28;01mraise\u001b[39;00m \u001b[38;5;167;01mFileNotFoundError\u001b[39;00m(\n\u001b[1;32m     46\u001b[0m         \u001b[38;5;124mf\u001b[39m\u001b[38;5;124m\"\u001b[39m\u001b[38;5;124mCannot find DGL C++ graphbolt library at \u001b[39m\u001b[38;5;132;01m{\u001b[39;00mpath\u001b[38;5;132;01m}\u001b[39;00m\u001b[38;5;124m\"\u001b[39m\n\u001b[1;32m     47\u001b[0m     )\n\u001b[1;32m     49\u001b[0m \u001b[38;5;28;01mtry\u001b[39;00m:\n\u001b[1;32m     50\u001b[0m     torch\u001b[38;5;241m.\u001b[39mclasses\u001b[38;5;241m.\u001b[39mload_library(path)\n",
      "\u001b[0;31mFileNotFoundError\u001b[0m: Cannot find DGL C++ graphbolt library at /home/tristan/Documents/Github/self/chem/myenv/lib/python3.12/site-packages/dgl/graphbolt/libgraphbolt_pytorch_2.4.1.so"
     ]
    }
   ],
   "source": [
    "import rdkit\n",
    "import torch\n",
    "print(torch.__version__)\n",
    "\n",
    "import dgllife"
   ]
  },
  {
   "cell_type": "code",
   "execution_count": null,
   "metadata": {},
   "outputs": [],
   "source": [
    "import pandas as pd\n",
    "import torch\n",
    "import dgl\n",
    "from dgl.nn.pytorch import GraphConv\n",
    "from tensorflow.keras.utils import to_categorical\n",
    "\n",
    "device = torch.device('cuda' if torch.cuda.is_available() else 'cpu')"
   ]
  },
  {
   "cell_type": "code",
   "execution_count": null,
   "metadata": {},
   "outputs": [],
   "source": []
  },
  {
   "cell_type": "code",
   "execution_count": null,
   "metadata": {},
   "outputs": [],
   "source": [
    "# Create the dataframe: \n",
    "# the 12 tox21 assays, 1 smiles column\n",
    "\n",
    "# add smiles\n",
    "df = pd.read_csv(\"../data/tox21_compoundData.csv\")\n",
    "df2 = pd.read_csv(\"../data/x_tr_smiles.csv.gz\")\n",
    "df[\"smiles\"] = df2[\"SMILES\"]\n",
    "\n",
    "# drop and sort columns. I like smiles last\n",
    "df.drop(columns=[\"ID\", \"inchikey\", 'sdftitle', 'order', \"CVfold\", \"set\"], inplace=True)\n",
    "cols = df.columns.tolist()\n",
    "cols = cols[0:] + cols[:0]\n",
    "df = df[cols]\n",
    "\n",
    "# drop all with smiles null\n",
    "df.dropna(subset=[\"smiles\"], inplace=True)\n",
    "df.to_csv(\"../data/bioact-het-cleaned.csv\", index=False)"
   ]
  },
  {
   "cell_type": "markdown",
   "metadata": {},
   "source": [
    "# Examining the Data"
   ]
  },
  {
   "cell_type": "code",
   "execution_count": null,
   "metadata": {},
   "outputs": [],
   "source": [
    "df"
   ]
  },
  {
   "cell_type": "code",
   "execution_count": null,
   "metadata": {},
   "outputs": [],
   "source": [
    "tasks = df.columns.tolist()[:12]"
   ]
  },
  {
   "cell_type": "code",
   "execution_count": null,
   "metadata": {},
   "outputs": [],
   "source": [
    "one = []\n",
    "zero = []\n",
    "nan = []\n",
    "for task in tasks:\n",
    "    one_count = df[df[task] == 1].shape[0]\n",
    "    zero_count = df[df[task] == 0].shape[0]\n",
    "    nan_count = df[df[task].isna()].shape[0]\n",
    "    one.append(one_count)\n",
    "    zero.append(zero_count)\n",
    "    nan.append(nan_count)\n",
    "    print(f\"{task:<15}: {one_count:5d} ones, {zero_count:5d} zeros, {nan_count:5d} nans\")\n",
    "    "
   ]
  },
  {
   "cell_type": "code",
   "execution_count": null,
   "metadata": {},
   "outputs": [],
   "source": [
    "# plot a bar chart of the number of ones, zeros, and nans for each task\n",
    "import matplotlib.pyplot as plt\n",
    "import numpy as np\n",
    "\n",
    "plt.figure(figsize=(20, 15))\n",
    "X = np.arange(len(tasks))\n",
    "plt.bar(X + 0.2, one, label='Ones', color='g', width=0.2)\n",
    "plt.bar(X + 0.4, zero, label='Zeros', color='b', width=0.2)\n",
    "plt.bar(X + 0.6, nan, label='NaNs', color='r', width=0.2)\n",
    "\n",
    "plt.xticks(X, tasks, rotation=45, ha='right')\n",
    "plt.xlabel('Tasks')\n",
    "plt.ylabel('Count')\n",
    "plt.title('Tox21 Assays')\n",
    "plt.legend([\"Active\", \"Inactive\", \"NA\"])"
   ]
  },
  {
   "cell_type": "code",
   "execution_count": null,
   "metadata": {},
   "outputs": [],
   "source": [
    "def create_dataset_with_gcn(ds, class_embed_vector, GCN, tasks):\n",
    "\n",
    "    created_data = []\n",
    "    data = np.arange(len(tasks))\n",
    "    onehot_encoded = to_categorical(data)\n",
    "    for numberTask, dataset in enumerate(ds):\n",
    "        for i, data in enumerate(dataset):\n",
    "            smiles, g, label, mask = data\n",
    "            g = g.to(device)\n",
    "            g = dgl.add_self_loop(g)\n",
    "            graph_feats = g.ndata.pop('h')\n",
    "            embbed = GCN(g, graph_feats)\n",
    "            embbed = embbed.to('cpu')\n",
    "            embbed = embbed.detach().numpy()\n",
    "            a = ( embbed, onehot_encoded[numberTask], class_embed_vector[numberTask], label, tasks[numberTask])\n",
    "            created_data.append(a)\n",
    "    print('Data created!!')\n",
    "    return created_data "
   ]
  }
 ],
 "metadata": {
  "kernelspec": {
   "display_name": "myenv",
   "language": "python",
   "name": "python3"
  },
  "language_info": {
   "codemirror_mode": {
    "name": "ipython",
    "version": 3
   },
   "file_extension": ".py",
   "mimetype": "text/x-python",
   "name": "python",
   "nbconvert_exporter": "python",
   "pygments_lexer": "ipython3",
   "version": "3.12.3"
  }
 },
 "nbformat": 4,
 "nbformat_minor": 2
}
