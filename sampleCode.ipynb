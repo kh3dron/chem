{
 "cells": [
  {
   "cell_type": "code",
   "execution_count": null,
   "metadata": {},
   "outputs": [],
   "source": [
    "import numpy as np\n",
    "import pandas as pd\n",
    "from scipy import io\n",
    "from sklearn.metrics import roc_auc_score\n",
    "from sklearn.ensemble import RandomForestClassifier"
   ]
  },
  {
   "cell_type": "code",
   "execution_count": null,
   "metadata": {},
   "outputs": [],
   "source": [
    "# load data\n",
    "\n",
    "y_tr = pd.read_csv('tox21_labels_train.csv.gz', index_col=0, compression=\"gzip\")\n",
    "y_te = pd.read_csv('tox21_labels_test.csv.gz', index_col=0, compression=\"gzip\")\n",
    "x_tr_dense = pd.read_csv('tox21_dense_train.csv.gz', index_col=0, compression=\"gzip\").values\n",
    "x_te_dense = pd.read_csv('tox21_dense_test.csv.gz', index_col=0, compression=\"gzip\").values\n",
    "x_tr_sparse = io.mmread('tox21_sparse_train.mtx.gz').tocsc()\n",
    "x_te_sparse = io.mmread('tox21_sparse_test.mtx.gz').tocsc()\n",
    "\n",
    "# filter out very sparse features\n",
    "sparse_col_idx = ((x_tr_sparse > 0).mean(0) > 0.05).A.ravel()\n",
    "x_tr = np.hstack([x_tr_dense, x_tr_sparse[:, sparse_col_idx].toarray()])\n",
    "x_te = np.hstack([x_te_dense, x_te_sparse[:, sparse_col_idx].toarray()])\n",
    "\n",
    "print(x_tr.shape)\n",
    "print(x_te.shape)\n"
   ]
  },
  {
   "cell_type": "code",
   "execution_count": null,
   "metadata": {},
   "outputs": [],
   "source": [
    "# Build a random forest model for all twelve assays\n",
    "for target in y_tr.columns:\n",
    "    rows_tr = np.isfinite(y_tr[target]).values\n",
    "    rows_te = np.isfinite(y_te[target]).values\n",
    "    rf = RandomForestClassifier(n_estimators=100,  n_jobs=4)\n",
    "    rf.fit(x_tr[rows_tr], y_tr[target][rows_tr]0)\n",
    "    p_te = rf.predict_proba(x_te[rows_te])\n",
    "    auc_te = roc_auc_score(y_te[target][rows_te], p_te[:, 1])\n",
    "    print(\"%15s: %3.5f\" % (target, auc_te))\n"
   ]
  }
 ],
 "metadata": {
  "language_info": {
   "name": "python"
  }
 },
 "nbformat": 4,
 "nbformat_minor": 2
}
